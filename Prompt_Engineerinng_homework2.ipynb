{
  "nbformat": 4,
  "nbformat_minor": 0,
  "metadata": {
    "colab": {
      "provenance": []
    },
    "kernelspec": {
      "name": "python3",
      "display_name": "Python 3"
    },
    "language_info": {
      "name": "python"
    }
  },
  "cells": [
    {
      "cell_type": "code",
      "execution_count": 10,
      "metadata": {
        "colab": {
          "base_uri": "https://localhost:8080/"
        },
        "id": "TJd3ErSmBym_",
        "outputId": "2b646a48-4860-48fa-f671-30a5fb29d7f3"
      },
      "outputs": [
        {
          "output_type": "stream",
          "name": "stdout",
          "text": [
            "Requirement already satisfied: langchain in /usr/local/lib/python3.10/dist-packages (0.2.14)\n",
            "Requirement already satisfied: groq in /usr/local/lib/python3.10/dist-packages (0.9.0)\n",
            "Requirement already satisfied: PyYAML>=5.3 in /usr/local/lib/python3.10/dist-packages (from langchain) (6.0.2)\n",
            "Requirement already satisfied: SQLAlchemy<3,>=1.4 in /usr/local/lib/python3.10/dist-packages (from langchain) (2.0.32)\n",
            "Requirement already satisfied: aiohttp<4.0.0,>=3.8.3 in /usr/local/lib/python3.10/dist-packages (from langchain) (3.10.5)\n",
            "Requirement already satisfied: async-timeout<5.0.0,>=4.0.0 in /usr/local/lib/python3.10/dist-packages (from langchain) (4.0.3)\n",
            "Requirement already satisfied: langchain-core<0.3.0,>=0.2.32 in /usr/local/lib/python3.10/dist-packages (from langchain) (0.2.35)\n",
            "Requirement already satisfied: langchain-text-splitters<0.3.0,>=0.2.0 in /usr/local/lib/python3.10/dist-packages (from langchain) (0.2.2)\n",
            "Requirement already satisfied: langsmith<0.2.0,>=0.1.17 in /usr/local/lib/python3.10/dist-packages (from langchain) (0.1.104)\n",
            "Requirement already satisfied: numpy<2,>=1 in /usr/local/lib/python3.10/dist-packages (from langchain) (1.26.4)\n",
            "Requirement already satisfied: pydantic<3,>=1 in /usr/local/lib/python3.10/dist-packages (from langchain) (2.8.2)\n",
            "Requirement already satisfied: requests<3,>=2 in /usr/local/lib/python3.10/dist-packages (from langchain) (2.32.3)\n",
            "Requirement already satisfied: tenacity!=8.4.0,<9.0.0,>=8.1.0 in /usr/local/lib/python3.10/dist-packages (from langchain) (8.5.0)\n",
            "Requirement already satisfied: anyio<5,>=3.5.0 in /usr/local/lib/python3.10/dist-packages (from groq) (3.7.1)\n",
            "Requirement already satisfied: distro<2,>=1.7.0 in /usr/lib/python3/dist-packages (from groq) (1.7.0)\n",
            "Requirement already satisfied: httpx<1,>=0.23.0 in /usr/local/lib/python3.10/dist-packages (from groq) (0.27.0)\n",
            "Requirement already satisfied: sniffio in /usr/local/lib/python3.10/dist-packages (from groq) (1.3.1)\n",
            "Requirement already satisfied: typing-extensions<5,>=4.7 in /usr/local/lib/python3.10/dist-packages (from groq) (4.12.2)\n",
            "Requirement already satisfied: aiohappyeyeballs>=2.3.0 in /usr/local/lib/python3.10/dist-packages (from aiohttp<4.0.0,>=3.8.3->langchain) (2.4.0)\n",
            "Requirement already satisfied: aiosignal>=1.1.2 in /usr/local/lib/python3.10/dist-packages (from aiohttp<4.0.0,>=3.8.3->langchain) (1.3.1)\n",
            "Requirement already satisfied: attrs>=17.3.0 in /usr/local/lib/python3.10/dist-packages (from aiohttp<4.0.0,>=3.8.3->langchain) (24.2.0)\n",
            "Requirement already satisfied: frozenlist>=1.1.1 in /usr/local/lib/python3.10/dist-packages (from aiohttp<4.0.0,>=3.8.3->langchain) (1.4.1)\n",
            "Requirement already satisfied: multidict<7.0,>=4.5 in /usr/local/lib/python3.10/dist-packages (from aiohttp<4.0.0,>=3.8.3->langchain) (6.0.5)\n",
            "Requirement already satisfied: yarl<2.0,>=1.0 in /usr/local/lib/python3.10/dist-packages (from aiohttp<4.0.0,>=3.8.3->langchain) (1.9.4)\n",
            "Requirement already satisfied: idna>=2.8 in /usr/local/lib/python3.10/dist-packages (from anyio<5,>=3.5.0->groq) (3.7)\n",
            "Requirement already satisfied: exceptiongroup in /usr/local/lib/python3.10/dist-packages (from anyio<5,>=3.5.0->groq) (1.2.2)\n",
            "Requirement already satisfied: certifi in /usr/local/lib/python3.10/dist-packages (from httpx<1,>=0.23.0->groq) (2024.7.4)\n",
            "Requirement already satisfied: httpcore==1.* in /usr/local/lib/python3.10/dist-packages (from httpx<1,>=0.23.0->groq) (1.0.5)\n",
            "Requirement already satisfied: h11<0.15,>=0.13 in /usr/local/lib/python3.10/dist-packages (from httpcore==1.*->httpx<1,>=0.23.0->groq) (0.14.0)\n",
            "Requirement already satisfied: jsonpatch<2.0,>=1.33 in /usr/local/lib/python3.10/dist-packages (from langchain-core<0.3.0,>=0.2.32->langchain) (1.33)\n",
            "Requirement already satisfied: packaging<25,>=23.2 in /usr/local/lib/python3.10/dist-packages (from langchain-core<0.3.0,>=0.2.32->langchain) (24.1)\n",
            "Requirement already satisfied: orjson<4.0.0,>=3.9.14 in /usr/local/lib/python3.10/dist-packages (from langsmith<0.2.0,>=0.1.17->langchain) (3.10.7)\n",
            "Requirement already satisfied: annotated-types>=0.4.0 in /usr/local/lib/python3.10/dist-packages (from pydantic<3,>=1->langchain) (0.7.0)\n",
            "Requirement already satisfied: pydantic-core==2.20.1 in /usr/local/lib/python3.10/dist-packages (from pydantic<3,>=1->langchain) (2.20.1)\n",
            "Requirement already satisfied: charset-normalizer<4,>=2 in /usr/local/lib/python3.10/dist-packages (from requests<3,>=2->langchain) (3.3.2)\n",
            "Requirement already satisfied: urllib3<3,>=1.21.1 in /usr/local/lib/python3.10/dist-packages (from requests<3,>=2->langchain) (2.0.7)\n",
            "Requirement already satisfied: greenlet!=0.4.17 in /usr/local/lib/python3.10/dist-packages (from SQLAlchemy<3,>=1.4->langchain) (3.0.3)\n",
            "Requirement already satisfied: jsonpointer>=1.9 in /usr/local/lib/python3.10/dist-packages (from jsonpatch<2.0,>=1.33->langchain-core<0.3.0,>=0.2.32->langchain) (3.0.0)\n",
            "Requirement already satisfied: langchain-groq in /usr/local/lib/python3.10/dist-packages (0.1.9)\n",
            "Requirement already satisfied: groq in /usr/local/lib/python3.10/dist-packages (0.9.0)\n",
            "Requirement already satisfied: langchain-core<0.3.0,>=0.2.26 in /usr/local/lib/python3.10/dist-packages (from langchain-groq) (0.2.35)\n",
            "Requirement already satisfied: anyio<5,>=3.5.0 in /usr/local/lib/python3.10/dist-packages (from groq) (3.7.1)\n",
            "Requirement already satisfied: distro<2,>=1.7.0 in /usr/lib/python3/dist-packages (from groq) (1.7.0)\n",
            "Requirement already satisfied: httpx<1,>=0.23.0 in /usr/local/lib/python3.10/dist-packages (from groq) (0.27.0)\n",
            "Requirement already satisfied: pydantic<3,>=1.9.0 in /usr/local/lib/python3.10/dist-packages (from groq) (2.8.2)\n",
            "Requirement already satisfied: sniffio in /usr/local/lib/python3.10/dist-packages (from groq) (1.3.1)\n",
            "Requirement already satisfied: typing-extensions<5,>=4.7 in /usr/local/lib/python3.10/dist-packages (from groq) (4.12.2)\n",
            "Requirement already satisfied: idna>=2.8 in /usr/local/lib/python3.10/dist-packages (from anyio<5,>=3.5.0->groq) (3.7)\n",
            "Requirement already satisfied: exceptiongroup in /usr/local/lib/python3.10/dist-packages (from anyio<5,>=3.5.0->groq) (1.2.2)\n",
            "Requirement already satisfied: certifi in /usr/local/lib/python3.10/dist-packages (from httpx<1,>=0.23.0->groq) (2024.7.4)\n",
            "Requirement already satisfied: httpcore==1.* in /usr/local/lib/python3.10/dist-packages (from httpx<1,>=0.23.0->groq) (1.0.5)\n",
            "Requirement already satisfied: h11<0.15,>=0.13 in /usr/local/lib/python3.10/dist-packages (from httpcore==1.*->httpx<1,>=0.23.0->groq) (0.14.0)\n",
            "Requirement already satisfied: PyYAML>=5.3 in /usr/local/lib/python3.10/dist-packages (from langchain-core<0.3.0,>=0.2.26->langchain-groq) (6.0.2)\n",
            "Requirement already satisfied: jsonpatch<2.0,>=1.33 in /usr/local/lib/python3.10/dist-packages (from langchain-core<0.3.0,>=0.2.26->langchain-groq) (1.33)\n",
            "Requirement already satisfied: langsmith<0.2.0,>=0.1.75 in /usr/local/lib/python3.10/dist-packages (from langchain-core<0.3.0,>=0.2.26->langchain-groq) (0.1.104)\n",
            "Requirement already satisfied: packaging<25,>=23.2 in /usr/local/lib/python3.10/dist-packages (from langchain-core<0.3.0,>=0.2.26->langchain-groq) (24.1)\n",
            "Requirement already satisfied: tenacity!=8.4.0,<9.0.0,>=8.1.0 in /usr/local/lib/python3.10/dist-packages (from langchain-core<0.3.0,>=0.2.26->langchain-groq) (8.5.0)\n",
            "Requirement already satisfied: annotated-types>=0.4.0 in /usr/local/lib/python3.10/dist-packages (from pydantic<3,>=1.9.0->groq) (0.7.0)\n",
            "Requirement already satisfied: pydantic-core==2.20.1 in /usr/local/lib/python3.10/dist-packages (from pydantic<3,>=1.9.0->groq) (2.20.1)\n",
            "Requirement already satisfied: jsonpointer>=1.9 in /usr/local/lib/python3.10/dist-packages (from jsonpatch<2.0,>=1.33->langchain-core<0.3.0,>=0.2.26->langchain-groq) (3.0.0)\n",
            "Requirement already satisfied: orjson<4.0.0,>=3.9.14 in /usr/local/lib/python3.10/dist-packages (from langsmith<0.2.0,>=0.1.75->langchain-core<0.3.0,>=0.2.26->langchain-groq) (3.10.7)\n",
            "Requirement already satisfied: requests<3,>=2 in /usr/local/lib/python3.10/dist-packages (from langsmith<0.2.0,>=0.1.75->langchain-core<0.3.0,>=0.2.26->langchain-groq) (2.32.3)\n",
            "Requirement already satisfied: charset-normalizer<4,>=2 in /usr/local/lib/python3.10/dist-packages (from requests<3,>=2->langsmith<0.2.0,>=0.1.75->langchain-core<0.3.0,>=0.2.26->langchain-groq) (3.3.2)\n",
            "Requirement already satisfied: urllib3<3,>=1.21.1 in /usr/local/lib/python3.10/dist-packages (from requests<3,>=2->langsmith<0.2.0,>=0.1.75->langchain-core<0.3.0,>=0.2.26->langchain-groq) (2.0.7)\n"
          ]
        }
      ],
      "source": [
        "\n",
        "!pip install langchain groq\n",
        "!pip install langchain-groq groq"
      ]
    },
    {
      "cell_type": "code",
      "source": [
        "from langchain_groq import ChatGroq\n",
        "from langchain.chains import LLMChain, SimpleSequentialChain\n",
        "from langchain_core.messages import AIMessage, HumanMessage, SystemMessage\n",
        "from langchain.prompts import Prompt\n",
        "from langchain import PromptTemplate, LLMChain\n",
        "import os\n",
        "\n",
        "# Set your Groq API key\n",
        "os.environ[\"GROQ_API_KEY\"] = \"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\"\n",
        "\n",
        "# Initialize the Groq LLM\n",
        "llm = ChatGroq(model_name=\"mixtral-8x7b-32768\")"
      ],
      "metadata": {
        "id": "TaqeR8ygJmVs"
      },
      "execution_count": 18,
      "outputs": []
    },
    {
      "cell_type": "markdown",
      "source": [
        "Question 1: Chain-of-Thought Prompting Implement a Chain-of-Thought prompting system to solve word problems. Your system should break down the problem-solving process into steps and show its reasoning.\n",
        "\n",
        "Task:\n",
        "\n",
        "● Create a function that takes a word problem as input.\n",
        "\n",
        "● Use the OpenAI API or any other LLM API to generate a step-by-step solution.\n",
        "\n",
        "● The output should show each step of the reasoning process.\n",
        "\n",
        "● Test your function with at least two word problems of varying complexity.\n",
        "\n",
        "Example word problem: \"A baker has 150 eggs. If each cake requires 3 eggs and each cookie requires 2 eggs, how many cakes and cookies can the baker make if they want to use all the eggs and make an equal number of each?\""
      ],
      "metadata": {
        "id": "UlBJDUsbH2Bd"
      }
    },
    {
      "cell_type": "code",
      "source": [
        "\n",
        "from langchain_core.messages import AIMessage, HumanMessage, SystemMessage\n",
        "from langchain.prompts import Prompt\n",
        "\n",
        "\n",
        "example = \"\"\"\n",
        "Question: Ninety-six golf balls were picked up at the driving range and placed\n",
        "into two buckets. One bucket has twenty-eight more balls than the other bucket.\n",
        "How many golf balls are in each bucket?\n",
        "\n",
        "\n",
        "Question: Find two numbers whose sum is sixty-eight and whose difference is\n",
        "twenty-two.\n",
        "Answer:\n",
        "\"\"\"\n",
        "human_message = HumanMessage(content=example)\n",
        "system_message = SystemMessage(content=\"You are helpful assistant.\")\n",
        "\n",
        "\n",
        "new_prompt = (system_message + human_message)\n",
        "\n",
        "print (f\"Prompt: {new_prompt}\")\n",
        "\n",
        "chain = LLMChain(llm=llm, prompt=new_prompt)\n",
        "reponse = chain.run({})\n",
        "print(f\"Response: {reponse}\")"
      ],
      "metadata": {
        "colab": {
          "base_uri": "https://localhost:8080/"
        },
        "id": "OijiiAkWCdIE",
        "outputId": "ba10fb5c-f366-422f-dd90-202aef984d4c"
      },
      "execution_count": 19,
      "outputs": [
        {
          "output_type": "stream",
          "name": "stdout",
          "text": [
            "Prompt: input_variables=[] messages=[SystemMessage(content='You are helpful assistant.'), HumanMessage(content='\\nQuestion: Ninety-six golf balls were picked up at the driving range and placed\\ninto two buckets. One bucket has twenty-eight more balls than the other bucket.\\nHow many golf balls are in each bucket?\\n \\n\\nQuestion: Find two numbers whose sum is sixty-eight and whose difference is\\ntwenty-two.\\nAnswer:\\n')]\n",
            "Response: For the first question, since one bucket has twenty-eight more balls than the other, let's denote the number of balls in the bucket with fewer balls as x. This means that the other bucket has x + 28 balls. Since there are 96 golf balls in total, we can set up the following equation:\n",
            "\n",
            "x + (x + 28) = 96\n",
            "\n",
            "Solving this equation, we get:\n",
            "\n",
            "2x + 28 = 96\n",
            "2x = 68\n",
            "x = 34\n",
            "\n",
            "So, one bucket has 34 golf balls, and the other bucket has:\n",
            "\n",
            "34 + 28 = 62\n",
            "\n",
            "For the second question, we need to find two numbers whose sum is sixty-eight and whose difference is twenty-two. Let's denote the smaller number as x. Then the larger number is x + 22. Setting up the equation, we have:\n",
            "\n",
            "x + (x + 22) = 68\n",
            "\n",
            "Solving this equation, we get:\n",
            "\n",
            "2x + 22 = 68\n",
            "2x = 46\n",
            "x = 23\n",
            "\n",
            "So, the two numbers are 23 and 23 + 22 = 45.\n"
          ]
        }
      ]
    },
    {
      "cell_type": "code",
      "source": [
        "\n",
        "example = \"\"\"\n",
        "Question: Nine times a number decreased by five is equal to forty-nine.\n",
        "What is the number?\n",
        "Answer:\n",
        "\"\"\"\n",
        "\n",
        "human_message = HumanMessage(content=example)\n",
        "system_message = SystemMessage(content=\"You are helpful assistant.\")\n",
        "\n",
        "\n",
        "cot_prompt = (system_message + human_message)\n",
        "\n",
        "print (f\"Prompt: {cot_prompt}\")\n",
        "\n",
        "chain = LLMChain(llm=llm, prompt=cot_prompt)\n",
        "reponse = chain.run({})\n",
        "print(f\"Response: {reponse}\")\n",
        ""
      ],
      "metadata": {
        "colab": {
          "base_uri": "https://localhost:8080/"
        },
        "id": "5BedWITkDZGo",
        "outputId": "f70dfead-9ae9-44b8-fb85-3a3089361147"
      },
      "execution_count": 20,
      "outputs": [
        {
          "output_type": "stream",
          "name": "stdout",
          "text": [
            "Prompt: input_variables=[] messages=[SystemMessage(content='You are helpful assistant.'), HumanMessage(content='\\nQuestion: Nine times a number decreased by five is equal to forty-nine.\\nWhat is the number?\\nAnswer:\\n')]\n",
            "Response: Let's denote the number as x. According to the problem, we can set up the following equation:\n",
            "\n",
            "9 * x - 5 = 49\n",
            "\n",
            "To solve for x, we first add 5 to both sides of the equation:\n",
            "\n",
            "9 * x = 54\n",
            "\n",
            "Then, we divide both sides by 9:\n",
            "\n",
            "x = 6\n",
            "\n",
            "So, the number is 6.\n"
          ]
        }
      ]
    },
    {
      "cell_type": "markdown",
      "source": [
        "Question 2: Prompt-chaining Develop a prompt-chaining system that generates a short story based on user input. Thesystem should use multiple prompts in sequence, with each prompt building on the output of theprevious one.\n",
        "\n",
        "Task:\n",
        "\n",
        "● Create a series of at least 3 prompts that will be chained together.\n",
        "\n",
        "● The first prompt should ask for a genre and main character.\n",
        "\n",
        "● Subsequent prompts should build on previous outputs to develop the plot and conclusion.\n",
        "\n",
        "● Implement the chaining logic to pass information between prompts.\n",
        "\n",
        "● Allow the user to input the initial genre and main character.\n",
        "\n",
        "● Output the final story generated through the chain."
      ],
      "metadata": {
        "id": "qexpPTb-IGFe"
      }
    },
    {
      "cell_type": "code",
      "source": [
        "# System message setup\n",
        "system_message = SystemMessage(content=\"You are a creative assistant for generating short stories.\")\n",
        "\n",
        "# Prompt 1: Get genre and main character\n",
        "initial_prompt = HumanMessage(content=\"Provide a genre and a main character for a short story.\")\n",
        "\n",
        "# Create the chain and get the genre and character\n",
        "chain1 = LLMChain(llm=llm, prompt=system_message + initial_prompt)\n",
        "response1 = chain1.run({})\n",
        "\n",
        "try:\n",
        "    genre, character = response1.split(', ')\n",
        "except ValueError as e:\n",
        "    print(f\"Error parsing response: {e}\")\n",
        "    genre, character = None, None\n",
        "\n",
        "# Example response\n",
        "response1 = \"Adventure,Train to busan\"\n",
        "print(f\"Genre: {genre}, \\nCharacter: {character}\")\n",
        "\n",
        "# Prompt 2: Develop the plot based on the genre and character\n",
        "plot_prompt = HumanMessage(content=f\"Based on the genre '{genre}' and the main character '{character}', write a brief plot outline for a short story.\")\n",
        "\n",
        "# Create the chain and get the plot\n",
        "chain2 = LLMChain(llm=llm, prompt=system_message + plot_prompt)\n",
        "plot = chain2.run({})\n",
        "\n",
        "# Prompt 3: Write the conclusion based on the plot\n",
        "conclusion_prompt = HumanMessage(content=f\"Based on the plot outline provided, write the conclusion for the short story.\")\n",
        "\n",
        "# Create the chain and get the conclusion\n",
        "chain3 = LLMChain(llm=llm, prompt=system_message + conclusion_prompt)\n",
        "conclusion = chain3.run({})\n",
        "\n",
        "# Combine all parts to form the final story\n",
        "final_story = f\"Genre: {genre}\\nMain Character: {character}\\nPlot: {plot}\\nConclusion: {conclusion}\"\n",
        "print(final_story)"
      ],
      "metadata": {
        "colab": {
          "base_uri": "https://localhost:8080/"
        },
        "id": "HHG6Tcb4FlhJ",
        "outputId": "4bc9573b-5d30-44d8-a87d-94fd22cf878e"
      },
      "execution_count": 21,
      "outputs": [
        {
          "output_type": "stream",
          "name": "stdout",
          "text": [
            "Error parsing response: not enough values to unpack (expected 2, got 1)\n",
            "Genre: None, \n",
            "Character: None\n",
            "Genre: None\n",
            "Main Character: None\n",
            "Plot: Title: The Infinite Blank\n",
            "\n",
            "In a world where stories are the foundation of existence, a character named None finds themselves in an empty void - a place where no story has ever been told. None is an embodiment of the absence of narrative, and they are tasked with the unique challenge of creating their own story.\n",
            "\n",
            "At first, None struggles to find inspiration in the infinite blankness that surrounds them. However, as they begin to explore the void, they discover that it's filled with countless possibilities and ideas, waiting to be shaped into a story. None realizes that their existence is not defined by the absence of a story but by the potential to create one.\n",
            "\n",
            "Embracing this newfound purpose, None starts to craft a tale using the very building blocks of the universe. As they weave their story, the once-barren landscape transforms around them, giving birth to vibrant landscapes, intriguing characters, and thrilling events. In the end, None becomes not just the protagonist of their story but also the author of their own existence.\n",
            "\n",
            "This short story highlights the power of creativity and the importance of one's ability to shape their own narrative, even when faced with seemingly insurmountable challenges.\n",
            "Conclusion: Plot Outline:\n",
            "\n",
            "The main character, Alex, is a talented violinist who has been experiencing stage fright. Despite their immense skill, they struggle to perform in front of an audience. One day, they discover an old violin in a quaint antique shop. Upon playing it, they feel an inexplicable connection. The violin seems to possess a magical quality that eases Alex's anxiety. With renewed confidence, Alex enters a prestigious music competition and captivates the audience with their enchanting performance.\n",
            "\n",
            "Conclusion:\n",
            "\n",
            "The final note of Alex's performance resonated through the concert hall, leaving the audience in awe. As the thunderous applause filled the room, Alex looked down at the old violin in their hands, a small smile playing on their lips. They could feel the violin's magic pulsing through them, a comforting warmth that eased their nerves.\n",
            "\n",
            "As they stepped off the stage, a familiar face greeted them - the antique shop owner. He congratulated Alex, his eyes gleaming with pride. \"I knew that violin would find the right person,\" he said, patting the violin case.\n",
            "\n",
            "From then on, Alex embraced their role as a performer, no longer hindered by stage fright. The magic violin became their trusted companion, a symbol of their resilience and determination. And every time they played, they shared a piece of that magic with the world.\n"
          ]
        }
      ]
    },
    {
      "cell_type": "markdown",
      "source": [
        "Question 3: Tree-of-Thought Prompting Implement a Tree-of-Thought prompting system to solve a complex problem. The system should explore multiple paths of reasoning and select the most promising one. Task:\n",
        "\n",
        "● Create a function that takes a complex problem as input.\n",
        "\n",
        "● Generate at least 3 different initial approaches to solving the problem.\n",
        "\n",
        "● For each approach, develop 2-3 possible next steps.\n",
        "\n",
        "● Implement a method to evaluate the promise of each path.\n",
        "\n",
        "● Select the most promising path and generate a final solution.\n",
        "\n",
        "● Test your system with the following problem:\n",
        "\n",
        "Problem: \"Design a sustainable urban transportation system for a city of 1 million people. Consider factors such as environmental impact, cost-effectiveness, and accessibility for all residents.\""
      ],
      "metadata": {
        "id": "XqOZKS42ITB8"
      }
    },
    {
      "cell_type": "code",
      "source": [
        "\n",
        "# First prompt template\n",
        "first_prompt = PromptTemplate(\n",
        "    input_variables=[\"topic\"],\n",
        "    template=\"Write a short introduction about {topic}.\"\n",
        ")\n",
        "\n",
        "# Second prompt template\n",
        "second_prompt = PromptTemplate(\n",
        "    input_variables=[\"introduction\"],\n",
        "    template=\"Based on this introduction, suggest 3 key points to expand upon: {introduction}\"\n",
        ")\n",
        "\n",
        "# Third prompt template\n",
        "third_prompt = PromptTemplate(\n",
        "    input_variables=[\"key_points\"],\n",
        "    template=\"For each of these key points, provide a brief explanation: {key_points}\"\n",
        ")\n",
        "\n",
        "# Create chains\n",
        "chain_one = LLMChain(llm=llm, prompt=first_prompt)\n",
        "chain_two = LLMChain(llm=llm, prompt=second_prompt)\n",
        "chain_three = LLMChain(llm=llm, prompt=third_prompt)\n",
        "\n",
        "# Create the sequential chain\n",
        "overall_chain = SimpleSequentialChain(\n",
        "    chains=[chain_one, chain_two, chain_three],\n",
        "    verbose=True\n",
        ")\n",
        "\n",
        "# Run the chain\n",
        "topic = \"Design a sustainable urban transportation system for a city of 1 million people.Consider factors such as environmental impact, cost-effectiveness, and accessibility for allresidents\"\n",
        "result = overall_chain.run(topic)\n",
        "\n",
        "print(result)"
      ],
      "metadata": {
        "colab": {
          "base_uri": "https://localhost:8080/"
        },
        "id": "lWVqXprUI6dc",
        "outputId": "494cc3e6-3a52-4ba0-e374-8b02b9979c8d"
      },
      "execution_count": 22,
      "outputs": [
        {
          "output_type": "stream",
          "name": "stdout",
          "text": [
            "\n",
            "\n",
            "\u001b[1m> Entering new SimpleSequentialChain chain...\u001b[0m\n",
            "\u001b[36;1m\u001b[1;3mDesigning a sustainable urban transportation system for a city of 1 million people involves creating an efficient, affordable, and eco-friendly network of transport options that cater to the needs of all residents. This system should aim to reduce the city's carbon footprint by prioritizing low-emission or zero-emission vehicles, encouraging active transportation modes, and optimizing public transit services.\n",
            "\n",
            "Consideration of environmental impact is crucial in the design process. The system should prioritize the use of renewable energy sources, promote energy-efficient vehicles, and incorporate green infrastructure, such as parks and bike lanes, to minimize the overall carbon footprint.\n",
            "\n",
            "Cost-effectiveness is another important factor. The transportation system should be designed to maximize resource utilization and minimize operational costs, ensuring affordability for all residents. This can be achieved through implementing efficient route planning, promoting shared mobility options, and leveraging technology for real-time traffic management.\n",
            "\n",
            "Finally, accessibility for all residents should be a key design principle. The system should cater to people with different abilities, income levels, and age groups, ensuring equitable access to transportation services. This can be accomplished by providing a mix of transport modes, designing transit stations and stops with universal access in mind, and creating safe and convenient active transportation networks.\u001b[0m\n",
            "\u001b[33;1m\u001b[1;3m1. Integration of multiple sustainable transport modes: A successful sustainable urban transportation system should offer a mix of low-emission or zero-emission vehicles, such as electric buses, trams, and trains, as well as active transportation modes like walking, cycling, and scooting. This diversity enables residents to choose the most suitable and convenient option for their specific needs, reducing reliance on private cars and promoting a healthier lifestyle. Additionally, incorporating shared mobility options like bike-sharing and car-sharing programs can further optimize resource utilization and reduce operational costs.\n",
            "\n",
            "2. Incorporation of smart city technologies: Leveraging advanced technologies can significantly enhance the efficiency, affordability, and eco-friendliness of an urban transportation system. Real-time traffic management using artificial intelligence and Internet of Things (IoT) devices can help optimize traffic flow, reduce congestion, and minimize energy consumption. Furthermore, implementing smart ticketing systems and integrating various transport modes into a unified payment platform can streamline the user experience and encourage the use of public transit.\n",
            "\n",
            "3. Prioritizing equitable access and inclusive design: To ensure that the transportation system caters to all residents, it is essential to prioritize equitable access and inclusive design principles. This can be achieved by:\n",
            "\n",
            "  a. Designing transit stations and stops with universal access in mind, incorporating features such as ramps, tactile paving, and audio announcements to accommodate people with different abilities.\n",
            "  b. Offering affordable transit fares and subsidies for low-income residents, ensuring that the transportation system is accessible to all income levels.\n",
            "  c. Providing safe and convenient active transportation networks, such as well-lit, segregated cycling lanes and accessible pedestrian pathways, to encourage walking and cycling among all age groups and abilities.\n",
            "  d. Engaging local communities in the transportation planning process, gathering input from a diverse range of stakeholders to ensure that the system meets the needs of all residents.\u001b[0m\n",
            "\u001b[38;5;200m\u001b[1;3m1. Integration of multiple sustainable transport modes: A well-designed urban transportation system combines various low-emission or zero-emission vehicles, such as electric buses, trams, and trains, along with active transportation options like walking, cycling, and scooting. This variety allows residents to select the most suitable and convenient mode for their requirements, thereby decreasing dependency on private cars and encouraging a healthier lifestyle. Moreover, incorporating shared mobility options, such as bike-sharing and car-sharing programs, can further optimize resource utilization and reduce operational expenses.\n",
            "\n",
            "2. Incorporation of smart city technologies: The implementation of advanced technologies can significantly improve the efficiency, affordability, and eco-friendliness of an urban transportation system. Real-time traffic management using artificial intelligence and Internet of Things (IoT) devices can help streamline traffic flow, reduce congestion, and minimize energy consumption. Additionally, introducing smart ticketing systems and integrating different transport modes into a unified payment platform can simplify the user experience and encourage the use of public transit.\n",
            "\n",
            "3. Prioritizing equitable access and inclusive design: To create a transportation system that serves all residents, it is crucial to emphasize equitable access and inclusive design principles. This can be achieved through:\n",
            "\n",
            "  a. Designing transit stations and stops with universal access in mind, incorporating elements such as ramps, tactile paving, and audio announcements to accommodate people with different abilities.\n",
            "  b. Offering affordable transit fares and subsidies for low-income residents, ensuring that the transportation system is accessible to individuals across all income levels.\n",
            "  c. Providing safe and convenient active transportation networks, such as well-lit, segregated cycling lanes and accessible pedestrian pathways, to encourage walking and cycling among all age groups and abilities.\n",
            "  d. Engaging local communities in the transportation planning process, soliciting input from a diverse range of stakeholders to ensure that the system addresses the needs of all residents.\u001b[0m\n",
            "\n",
            "\u001b[1m> Finished chain.\u001b[0m\n",
            "1. Integration of multiple sustainable transport modes: A well-designed urban transportation system combines various low-emission or zero-emission vehicles, such as electric buses, trams, and trains, along with active transportation options like walking, cycling, and scooting. This variety allows residents to select the most suitable and convenient mode for their requirements, thereby decreasing dependency on private cars and encouraging a healthier lifestyle. Moreover, incorporating shared mobility options, such as bike-sharing and car-sharing programs, can further optimize resource utilization and reduce operational expenses.\n",
            "\n",
            "2. Incorporation of smart city technologies: The implementation of advanced technologies can significantly improve the efficiency, affordability, and eco-friendliness of an urban transportation system. Real-time traffic management using artificial intelligence and Internet of Things (IoT) devices can help streamline traffic flow, reduce congestion, and minimize energy consumption. Additionally, introducing smart ticketing systems and integrating different transport modes into a unified payment platform can simplify the user experience and encourage the use of public transit.\n",
            "\n",
            "3. Prioritizing equitable access and inclusive design: To create a transportation system that serves all residents, it is crucial to emphasize equitable access and inclusive design principles. This can be achieved through:\n",
            "\n",
            "  a. Designing transit stations and stops with universal access in mind, incorporating elements such as ramps, tactile paving, and audio announcements to accommodate people with different abilities.\n",
            "  b. Offering affordable transit fares and subsidies for low-income residents, ensuring that the transportation system is accessible to individuals across all income levels.\n",
            "  c. Providing safe and convenient active transportation networks, such as well-lit, segregated cycling lanes and accessible pedestrian pathways, to encourage walking and cycling among all age groups and abilities.\n",
            "  d. Engaging local communities in the transportation planning process, soliciting input from a diverse range of stakeholders to ensure that the system addresses the needs of all residents.\n"
          ]
        }
      ]
    }
  ]
}